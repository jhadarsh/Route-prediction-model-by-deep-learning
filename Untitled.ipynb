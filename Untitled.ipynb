{
 "cells": [
  {
   "cell_type": "code",
   "execution_count": 3,
   "id": "4df6c2fd-8ff9-4a41-912a-9da3ab9b07fd",
   "metadata": {},
   "outputs": [
    {
     "name": "stdout",
     "output_type": "stream",
     "text": [
      " * Serving Flask app '__main__'\n",
      " * Debug mode: on\n"
     ]
    },
    {
     "name": "stderr",
     "output_type": "stream",
     "text": [
      "WARNING: This is a development server. Do not use it in a production deployment. Use a production WSGI server instead.\n",
      " * Running on http://127.0.0.1:5000\n",
      "Press CTRL+C to quit\n",
      " * Restarting with stat\n"
     ]
    },
    {
     "ename": "SystemExit",
     "evalue": "1",
     "output_type": "error",
     "traceback": [
      "An exception has occurred, use %tb to see the full traceback.\n",
      "\u001b[1;31mSystemExit\u001b[0m\u001b[1;31m:\u001b[0m 1\n"
     ]
    }
   ],
   "source": [
    "from flask import Flask, request, jsonify\n",
    "from flask_cors import CORS\n",
    "import json\n",
    "\n",
    "# Load JSON data\n",
    "with open(\"delhi_routes.json\", \"r\") as file:\n",
    "    route_data = json.load(file)\n",
    "\n",
    "# Initialize Flask app\n",
    "app = Flask(__name__)\n",
    "CORS(app)  # Enable CORS for cross-origin access\n",
    "\n",
    "@app.route('/predict', methods=['POST'])\n",
    "def predict():\n",
    "    try:\n",
    "        # Get JSON request data\n",
    "        data = request.json\n",
    "        start = data.get(\"start\")\n",
    "        destination = data.get(\"destination\")\n",
    "\n",
    "        if not start or not destination:\n",
    "            return jsonify({\"error\": \"Both 'start' and 'destination' are required\"}), 400\n",
    "\n",
    "        # Find the matching start-destination pair\n",
    "        matching_routes = next((route for route in route_data if route[\"start\"] == start and route[\"destination\"] == destination), None)\n",
    "\n",
    "        if not matching_routes:\n",
    "            return jsonify({\"error\": \"No matching routes found\"}), 404\n",
    "\n",
    "        return jsonify(matching_routes)\n",
    "\n",
    "    except Exception as e:\n",
    "        return jsonify({\"error\": str(e)}), 500\n",
    "\n",
    "@app.route('/routes', methods=['GET'])\n",
    "def get_all_routes():\n",
    "    return jsonify(route_data)\n",
    "\n",
    "if __name__ == '__main__':\n",
    "    app.run(debug=True)\n"
   ]
  },
  {
   "cell_type": "code",
   "execution_count": null,
   "id": "08dc3fde-d696-4cfa-aa19-cf8f80b2b953",
   "metadata": {},
   "outputs": [],
   "source": []
  }
 ],
 "metadata": {
  "kernelspec": {
   "display_name": "Python 3 (ipykernel)",
   "language": "python",
   "name": "python3"
  },
  "language_info": {
   "codemirror_mode": {
    "name": "ipython",
    "version": 3
   },
   "file_extension": ".py",
   "mimetype": "text/x-python",
   "name": "python",
   "nbconvert_exporter": "python",
   "pygments_lexer": "ipython3",
   "version": "3.10.11"
  }
 },
 "nbformat": 4,
 "nbformat_minor": 5
}
